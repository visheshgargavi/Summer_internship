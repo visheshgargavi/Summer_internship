{
 "cells": [
  {
   "cell_type": "code",
   "execution_count": 1,
   "metadata": {},
   "outputs": [],
   "source": [
    "import cv2"
   ]
  },
  {
   "cell_type": "code",
   "execution_count": 2,
   "metadata": {},
   "outputs": [],
   "source": [
    "cap = cv2.VideoCapture(0)"
   ]
  },
  {
   "cell_type": "code",
   "execution_count": 3,
   "metadata": {},
   "outputs": [],
   "source": [
    "ret , photo = cap.read()"
   ]
  },
  {
   "cell_type": "code",
   "execution_count": 5,
   "metadata": {},
   "outputs": [],
   "source": [
    "import cv2\n",
    "cap = cv2.VideoCapture(0)\n",
    "cv2.imwrite(\"pic1.jpg\", photo)\n",
    "#ret , photo = cap.read()\n",
    "model = cv2.CascadeClassifier('haarcascade_frontalface_default.xml')\n",
    "faces = model.detectMultiScale(photo)\n",
    "i=1\n",
    "while True:\n",
    "    ret , photo = cap.read()\n",
    "    faces = model.detectMultiScale(photo)\n",
    "    if len(faces) == 0:\n",
    "        pass\n",
    "    else:\n",
    "        i = i+1\n",
    "        x1 = faces[0][0]\n",
    "        y1 = faces[0][1]\n",
    "        x2 = x1 + faces[0][2]\n",
    "        y2 = y1 + faces[0][3]\n",
    "        cv2.imwrite('my{}.jpg'.format(i),photo[x1:x2,y1:y2])\n",
    "        \n",
    "    \n",
    "    rphoto = cv2.rectangle(photo , (x1,y1),(x2,y2),[0,255,0],5)\n",
    "    \n",
    "    cv2.imshow(\"hi\",rphoto)\n",
    "    if cv2.waitKey(10) == 13:\n",
    "        break\n",
    "cv2.destroyAllWindows()\n",
    "cap.release()"
   ]
  },
  {
   "cell_type": "code",
   "execution_count": null,
   "metadata": {},
   "outputs": [],
   "source": [
    "import smtplib, ssl\n",
    "import config\n",
    "from email.mime.text import MIMEText\n",
    "from email.mime.base import MIMEBase\n",
    "from email.mime.multipart import MIMEMultipart\n",
    "from email import encoders\n",
    "\n",
    "#Sender, Reciever, Body of Email\n",
    "sender = config.mail\n",
    "receivers = ['vishesh8199@gmail.com']\n",
    "body_of_email = 'Text to be displayed in the email'\n",
    "\n",
    "#Creating the Message, Subject line, From and To\n",
    "msg = MIMEMultipart()\n",
    "msg['Subject'] = 'Subject line goes here'\n",
    "msg['From'] = sender\n",
    "msg['To'] = ','.join(receivers)\n",
    "\n",
    "#Adds a csv file as an attachment to the email \n",
    "part = MIMEBase('application', 'octet-stream')\n",
    "part.set_payload(open('pic1.jpg', 'rb').read())\n",
    "encoders.encode_base64(part)\n",
    "part.add_header('Content-Disposition', 'attachment; filename =\"SUMMER_TASK_1.jpg\"')\n",
    "msg.attach(part)\n",
    "\n",
    "#Connecting to Gmail SMTP Server\n",
    "s = smtplib.SMTP_SSL(host = 'smtp.gmail.com', port = 465)\n",
    "s.login(user = config.mail, password = config.password)\n",
    "s.sendmail(sender, receivers, msg.as_string())\n",
    "s.quit()"
   ]
  },
  {
   "cell_type": "code",
   "execution_count": 2,
   "metadata": {},
   "outputs": [],
   "source": [
    "cap.release()"
   ]
  },
  {
   "cell_type": "code",
   "execution_count": null,
   "metadata": {},
   "outputs": [],
   "source": []
  }
 ],
 "metadata": {
  "kernelspec": {
   "display_name": "Python 3",
   "language": "python",
   "name": "python3"
  },
  "language_info": {
   "codemirror_mode": {
    "name": "ipython",
    "version": 3
   },
   "file_extension": ".py",
   "mimetype": "text/x-python",
   "name": "python",
   "nbconvert_exporter": "python",
   "pygments_lexer": "ipython3",
   "version": "3.7.6"
  }
 },
 "nbformat": 4,
 "nbformat_minor": 4
}
